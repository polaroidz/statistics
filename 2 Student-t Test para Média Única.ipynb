{
 "cells": [
  {
   "cell_type": "markdown",
   "metadata": {
    "colab_type": "text",
    "id": "iRtpNJHL6NDM"
   },
   "source": [
    "# Student-t Teste para Média Única\n",
    "\n",
    "Usamos esse teste quando desejamos realizar Teste de Hipóteses ou Construção de Intervalos de Confiança para populações cujo Desvio Padrão é desconhecido.\n"
   ]
  },
  {
   "cell_type": "code",
   "execution_count": 0,
   "metadata": {
    "colab": {},
    "colab_type": "code",
    "id": "7bxzzVJJ_gl0"
   },
   "outputs": [],
   "source": [
    "import math\n",
    "\n",
    "import numpy as np\n",
    "import pandas as pd\n",
    "import matplotlib.pyplot as plt\n",
    "import scipy.stats as stats\n",
    "import seaborn as sns\n",
    "\n",
    "np.random.seed(seed=42)\n",
    "\n",
    "%matplotlib inline"
   ]
  },
  {
   "cell_type": "code",
   "execution_count": 25,
   "metadata": {
    "colab": {
     "base_uri": "https://localhost:8080/",
     "height": 137
    },
    "colab_type": "code",
    "id": "klzG9eE_6AGn",
    "outputId": "60e6f574-32de-4fd9-8bae-aeeb8a521347"
   },
   "outputs": [
    {
     "name": "stdout",
     "output_type": "stream",
     "text": [
      "Intervalo de Confiança: (35.554,68.646)\n",
      "T-score = 2.2984077226629225\n",
      "p-value = 0.02843093224397591\n",
      "Hipóteses\n",
      "Ho: mu  = 30\n",
      "Ha: mu != 30\n",
      "Ho rejeitada em favor de Ha\n"
     ]
    }
   ],
   "source": [
    "#@title Parâmetros\n",
    "\n",
    "#@markdown Parâmetros da Amostra\n",
    "sample_mean = 52.1 #@param\n",
    "sample_sd = 45.1 #@param\n",
    "n = 22 #@param\n",
    "\n",
    "df = n - 1\n",
    "\n",
    "#@markdown Parâmetros do Teste\n",
    "pop_mean = 30 #@param\n",
    "ci = 0.95 #@param\n",
    "alpha = 1 - ci\n",
    "\n",
    "t_df = stats.t.ppf(ci, df=df)\n",
    "SE = sample_sd / math.sqrt(n)\n",
    "\n",
    "# Confidence Interval\n",
    "ci_upper = sample_mean + t_df * SE\n",
    "ci_lower = sample_mean - t_df * SE\n",
    "\n",
    "print(\"Intervalo de Confiança: ({:.3f},{:.3f})\".format(ci_lower, ci_upper))\n",
    "\n",
    "t_score = (sample_mean - pop_mean) / SE\n",
    "p_value = st.norm.pdf(t_score)\n",
    "\n",
    "print(\"T-score =\", t_score)\n",
    "print(\"p-value =\", p_value)\n",
    "\n",
    "print(\"Hipóteses\")\n",
    "print(\"Ho: mu  =\", pop_mean)\n",
    "print(\"Ha: mu !=\", pop_mean)\n",
    "\n",
    "if p_value < alpha:\n",
    "  print(\"Ho rejeitada em favor de Ha\")\n",
    "else:\n",
    "  print(\"Não foi possível rejeitar Ho\")"
   ]
  },
  {
   "cell_type": "code",
   "execution_count": 0,
   "metadata": {
    "colab": {},
    "colab_type": "code",
    "id": "bH9k0RhcB2ki"
   },
   "outputs": [],
   "source": []
  }
 ],
 "metadata": {
  "colab": {
   "authorship_tag": "ABX9TyNzCECSPGPEuxI+amNj9TjI",
   "include_colab_link": true,
   "name": "2 Student-t Test para Média Única.ipynb",
   "provenance": []
  },
  "kernelspec": {
   "display_name": "Python 3",
   "language": "python",
   "name": "python3"
  },
  "language_info": {
   "codemirror_mode": {
    "name": "ipython",
    "version": 3
   },
   "file_extension": ".py",
   "mimetype": "text/x-python",
   "name": "python",
   "nbconvert_exporter": "python",
   "pygments_lexer": "ipython3",
   "version": "3.7.6"
  }
 },
 "nbformat": 4,
 "nbformat_minor": 1
}
