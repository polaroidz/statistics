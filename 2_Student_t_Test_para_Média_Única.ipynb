{
  "nbformat": 4,
  "nbformat_minor": 0,
  "metadata": {
    "colab": {
      "name": "2 Student-t Test para Média Única.ipynb",
      "provenance": [],
      "authorship_tag": "ABX9TyNzCECSPGPEuxI+amNj9TjI",
      "include_colab_link": true
    },
    "kernelspec": {
      "name": "python3",
      "display_name": "Python 3"
    }
  },
  "cells": [
    {
      "cell_type": "markdown",
      "metadata": {
        "id": "view-in-github",
        "colab_type": "text"
      },
      "source": [
        "<a href=\"https://colab.research.google.com/github/polaroidz/statistics/blob/master/2_Student_t_Test_para_M%C3%A9dia_%C3%9Anica.ipynb\" target=\"_parent\"><img src=\"https://colab.research.google.com/assets/colab-badge.svg\" alt=\"Open In Colab\"/></a>"
      ]
    },
    {
      "cell_type": "markdown",
      "metadata": {
        "id": "iRtpNJHL6NDM",
        "colab_type": "text"
      },
      "source": [
        "# Student-t Teste para Média Única\n",
        "\n",
        "Usamos esse teste quando desejamos realizar Teste de Hipóteses ou Construção de Intervalos de Confiança para populações cujo Desvio Padrão é desconhecido.\n"
      ]
    },
    {
      "cell_type": "code",
      "metadata": {
        "id": "7bxzzVJJ_gl0",
        "colab_type": "code",
        "colab": {}
      },
      "source": [
        "import math\n",
        "\n",
        "import numpy as np\n",
        "import pandas as pd\n",
        "import matplotlib.pyplot as plt\n",
        "import scipy.stats as stats\n",
        "import seaborn as sns\n",
        "\n",
        "np.random.seed(seed=42)\n",
        "\n",
        "%matplotlib inline"
      ],
      "execution_count": 0,
      "outputs": []
    },
    {
      "cell_type": "code",
      "metadata": {
        "id": "klzG9eE_6AGn",
        "colab_type": "code",
        "colab": {
          "base_uri": "https://localhost:8080/",
          "height": 137
        },
        "outputId": "60e6f574-32de-4fd9-8bae-aeeb8a521347"
      },
      "source": [
        "#@title Parâmetros\n",
        "\n",
        "#@markdown Parâmetros da Amostra\n",
        "sample_mean = 52.1 #@param\n",
        "sample_sd = 45.1 #@param\n",
        "n = 22 #@param\n",
        "\n",
        "df = n - 1\n",
        "\n",
        "#@markdown Parâmetros do Teste\n",
        "pop_mean = 30 #@param\n",
        "ci = 0.95 #@param\n",
        "alpha = 1 - ci\n",
        "\n",
        "t_df = stats.t.ppf(ci, df=df)\n",
        "SE = sample_sd / math.sqrt(n)\n",
        "\n",
        "# Confidence Interval\n",
        "ci_upper = sample_mean + t_df * SE\n",
        "ci_lower = sample_mean - t_df * SE\n",
        "\n",
        "print(\"Intervalo de Confiança: ({:.3f},{:.3f})\".format(ci_lower, ci_upper))\n",
        "\n",
        "t_score = (sample_mean - pop_mean) / SE\n",
        "p_value = st.norm.pdf(t_score)\n",
        "\n",
        "print(\"T-score =\", t_score)\n",
        "print(\"p-value =\", p_value)\n",
        "\n",
        "print(\"Hipóteses\")\n",
        "print(\"Ho: mu  =\", pop_mean)\n",
        "print(\"Ha: mu !=\", pop_mean)\n",
        "\n",
        "if p_value < alpha:\n",
        "  print(\"Ho rejeitada em favor de Ha\")\n",
        "else:\n",
        "  print(\"Não foi possível rejeitar Ho\")"
      ],
      "execution_count": 25,
      "outputs": [
        {
          "output_type": "stream",
          "text": [
            "Intervalo de Confiança: (35.554,68.646)\n",
            "T-score = 2.2984077226629225\n",
            "p-value = 0.02843093224397591\n",
            "Hipóteses\n",
            "Ho: mu  = 30\n",
            "Ha: mu != 30\n",
            "Ho rejeitada em favor de Ha\n"
          ],
          "name": "stdout"
        }
      ]
    },
    {
      "cell_type": "code",
      "metadata": {
        "id": "rSaikzsG_fhP",
        "colab_type": "code",
        "colab": {
          "base_uri": "https://localhost:8080/",
          "height": 34
        },
        "outputId": "2742b562-be79-43db-b393-e69777583f7b"
      },
      "source": [
        "SE"
      ],
      "execution_count": 21,
      "outputs": [
        {
          "output_type": "execute_result",
          "data": {
            "text/plain": [
              "9.61535230763803"
            ]
          },
          "metadata": {
            "tags": []
          },
          "execution_count": 21
        }
      ]
    },
    {
      "cell_type": "code",
      "metadata": {
        "id": "3sSDkyek_4Ht",
        "colab_type": "code",
        "colab": {
          "base_uri": "https://localhost:8080/",
          "height": 34
        },
        "outputId": "22df7a78-a62c-4008-8e6b-bcb095766e86"
      },
      "source": [
        "t_score"
      ],
      "execution_count": 23,
      "outputs": [
        {
          "output_type": "execute_result",
          "data": {
            "text/plain": [
              "2.2984077226629225"
            ]
          },
          "metadata": {
            "tags": []
          },
          "execution_count": 23
        }
      ]
    },
    {
      "cell_type": "code",
      "metadata": {
        "id": "bH9k0RhcB2ki",
        "colab_type": "code",
        "colab": {}
      },
      "source": [
        ""
      ],
      "execution_count": 0,
      "outputs": []
    }
  ]
}